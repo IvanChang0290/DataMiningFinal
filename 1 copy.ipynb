{
 "cells": [
  {
   "cell_type": "code",
   "execution_count": 1,
   "metadata": {},
   "outputs": [
    {
     "name": "stdout",
     "output_type": "stream",
     "text": [
      "best_k: 8\n",
      "best_accuracy: 0.7\n",
      "Test Accuracy: 60.00%\n"
     ]
    }
   ],
   "source": [
    "import numpy as np\n",
    "import pandas as pd\n",
    "from sklearn.neighbors import KNeighborsClassifier\n",
    "from sklearn.metrics import accuracy_score\n",
    "from sklearn.model_selection import LeaveOneOut\n",
    "\n",
    "df1 = pd.read_csv(\"obesity_election_2004.csv\")\n",
    "df2 = pd.read_csv(\"obesity_election_2000.csv\")\n",
    "\n",
    "df1.columns = ['states', 'per', 'result', 'short']\n",
    "df2.columns = ['states', 'per', 'result', 'short']\n",
    "df1['per'] = df1['per'].str.rstrip('%').astype('float') / 100.0\n",
    "df2['per'] = df2['per'].str.rstrip('%').astype('float') / 100.0\n",
    "df1['result'] = df1['result'].map({'R': 0, 'D': 1})\n",
    "df2['result'] = df2['result'].map({'R': 0, 'D': 1})\n",
    "\n",
    "x_train = df1[['per']]\n",
    "y_train = df1['result']\n",
    "\n",
    "x_test = df2[['per']]\n",
    "y_test = df2['result']\n",
    "\n",
    "\n",
    "loo = LeaveOneOut()\n",
    "krange = range(1,50)\n",
    "best_k = 0\n",
    "best_accuracy = 0\n",
    "\n",
    "for k in krange:\n",
    "    accuracies = []\n",
    "    knn = KNeighborsClassifier(n_neighbors=k)\n",
    "    \n",
    "\n",
    "\n",
    "    for train_index, test_index in loo.split(x_train):\n",
    "        x_train_fold, x_test_fold = x_train.iloc[train_index], x_train.iloc[test_index]\n",
    "        y_train_fold, y_test_fold = y_train.iloc[train_index], y_train.iloc[test_index]\n",
    "\n",
    "        \n",
    "        knn.fit(x_train_fold, y_train_fold)\n",
    "        y_pred_fold = knn.predict(x_test_fold)\n",
    "        accuracy = accuracy_score(y_test_fold, y_pred_fold)\n",
    "        accuracies.append(accuracy)\n",
    "\n",
    "    mean_accuracy = np.mean(accuracies)\n",
    "   \n",
    "    # print(f\"Mean Accuracy: {mean_accuracy * 100:.2f}%\")\n",
    "    if(mean_accuracy > best_accuracy):\n",
    "        best_accuracy = mean_accuracy\n",
    "        best_k = k\n",
    "\n",
    "    \n",
    "print(f\"best_k: {best_k}\")\n",
    "print(f\"best_accuracy: {best_accuracy}\")\n",
    "\n",
    "knn.n_neighbors = best_k\n",
    "\n",
    "# Now, you can use the KNN model trained on the entire training data (x_train, y_train) and evaluate it on your test data (x_test, y_test).\n",
    "knn.fit(x_train, y_train)\n",
    "y_pred = knn.predict(x_test)\n",
    "test_accuracy = accuracy_score(y_test, y_pred)\n",
    "print(f\"Test Accuracy: {test_accuracy * 100:.2f}%\")\n"
   ]
  }
 ],
 "metadata": {
  "kernelspec": {
   "display_name": "base",
   "language": "python",
   "name": "python3"
  },
  "language_info": {
   "codemirror_mode": {
    "name": "ipython",
    "version": 3
   },
   "file_extension": ".py",
   "mimetype": "text/x-python",
   "name": "python",
   "nbconvert_exporter": "python",
   "pygments_lexer": "ipython3",
   "version": "3.6.13"
  },
  "orig_nbformat": 4
 },
 "nbformat": 4,
 "nbformat_minor": 2
}
